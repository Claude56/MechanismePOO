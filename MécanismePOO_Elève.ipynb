{
 "cells": [
  {
   "cell_type": "markdown",
   "metadata": {},
   "source": [
    "# Mécanismes de la POO (Programmation Orientée Objet):\n",
    "### Note: Commencez par faire une copie de ce notebook et renommer cette copie: *MécanismesPOO_VotreNom.ipynb**\n",
    "* Aide pour l'utilisation du notebook: voir menu \"Aide\" de Jupyter (dans la barre d'outils ci-dessus). \n",
    "* Aide mémoire pour la syntaxe Makdown:[GitHub](https://docs.github.com/en/github/writing-on-github/basic-writing-band-formatting-syntax) ou [Markdown](https://commonmark.org/help/)"
   ]
  },
  {
   "cell_type": "markdown",
   "metadata": {},
   "source": [
    "La programmation orientée objet (POO) est un concept de programmation très puissant qui permet de structurer ses programmes d'une manière nouvelle. En POO, on définit un « objet » qui peut contenir des « attributs » ainsi que des « méthodes » qui agissent sur « objet » lui-même. Pour construire cet objet, on utilise la notion de « classe ».\n",
    "Rappel: En Python tout est objet. \n",
    "Donc, une variable de type **int** est en fait un objet de type int, donc construit à partir de la **classe int**. Pareil pour les types **float** et les **string**. Mais également pour les  **list**,les **tuple**, les **dict**, etc...\n",
    "\n",
    "Une classe définit des objets qui sont des instances (des représentants) de cette classe. \n",
    "Les objets peuvent posséder des attributs (variables associées aux objets) et des méthodes (qui sont des fonctions associées aux objets et qui peuvent agir sur ces derniers ou encore les utiliser).\n",
    "\n",
    "\n",
    "La POO permet de rédiger du code plus compact et mieux ré-utilisable. L'utilisation de classes évite l'utilisation de variables globales en créant ce qu'on appelle un espace de noms propre à chaque objet permettant d'y encapsuler des attributs et des méthodes."
   ]
  },
  {
   "cell_type": "markdown",
   "metadata": {},
   "source": [
    "## 1/ Création d'une classe minimale:  "
   ]
  },
  {
   "cell_type": "markdown",
   "metadata": {},
   "source": [
    "Exemple de déclaration d'une classe:  **class Fruit:**    # Remarque: Toujours écrire le nom de la classe avec une majuscule <br/>\n",
    "\n",
    "11/ Dans un l'interprêteur python (*) de votre choix (Idle; Pyzo; Thonny; Spyder; etc...), saisissez les commandes ci-dessous:\n",
    "\n",
    "![image_1](Capture_1.png)\n",
    "(*): La solution qui consiste à utiliser plusieurs cellules de code du notebook, n'est pas conseillée ici.\n",
    "\n",
    "Vous devriez obtenir les retours indiqués ci-dessus et donc une succession de lignes, identique. <br/>\n",
    "Copier/coller vos lignes dans la cellule \"Markdown\" ci dessous et commenter les commandes ainsi que le retour de ces commandes.  <br/>\n",
    "Bien faire apparaitre dans vos commentaires, les notions: **d'objet; de type et d'instance.**\n",
    "\n"
   ]
  },
  {
   "cell_type": "markdown",
   "metadata": {},
   "source": [
    "=> *Coller **ici** vos lignes issues de l'interprêteur! Et n'oublier pas de les commenter*"
   ]
  },
  {
   "cell_type": "markdown",
   "metadata": {},
   "source": [
    "12/ Toujours dans l'interprêteur, testez maintenant la commande: **isinstance(orange, Fruit)**   <br/>\n",
    "=> copier/coller ici la commande et son résultat (capture d'écran), donner sa signification et commenter son retour."
   ]
  },
  {
   "cell_type": "markdown",
   "metadata": {},
   "source": [
    "13/ Utiliser [Python Tutor](http://www.pythontutor.com/visualize.html#mode=edit) et reprendre la création de la classe **Fruit** et de l'instance **orange**. <br/> \n",
    "Puis utiliser le bouton \"Vizualise execution\" pour observer l'organisation de l'espace mémoire => Insérer ici la représentation graphique obtenue. \n"
   ]
  },
  {
   "cell_type": "markdown",
   "metadata": {},
   "source": [
    "14/ Tester maintenant la commande suivante (dans l'interprêteur):\n",
    "\n",
    "![image_2](Capture_2.png)\n",
    "\n",
    "=> Détailler et commenter ici le retour obtenu."
   ]
  },
  {
   "cell_type": "markdown",
   "metadata": {},
   "source": [
    "## 2/ Ajoutons un attribut d'instance:"
   ]
  },
  {
   "cell_type": "markdown",
   "metadata": {},
   "source": [
    "21/ => Toujours dans l'interprêteur python, ou bien dans des cellules de code de ce notebook (attention de déclarer au préalable, la classe et son instance), testez successivement les commandes suivantes:\n",
    "![Image_3](Capture_3.png)\n",
    "\n",
    "```python\n",
    "dir(orange)\n",
    "orange.couleur = \"orange\"\n",
    "dir(orange)\n",
    "orange.couleur\n",
    "```\n",
    "=> Selon le cas, copier/coller ici les commandes ainsi que leur retour, et ajouter vos commentaires.\n"
   ]
  },
  {
   "cell_type": "code",
   "execution_count": null,
   "metadata": {},
   "outputs": [],
   "source": []
  }
 ],
 "metadata": {
  "kernelspec": {
   "display_name": "Python 3",
   "language": "python",
   "name": "python3"
  },
  "language_info": {
   "codemirror_mode": {
    "name": "ipython",
    "version": 3
   },
   "file_extension": ".py",
   "mimetype": "text/x-python",
   "name": "python",
   "nbconvert_exporter": "python",
   "pygments_lexer": "ipython3",
   "version": "3.7.7"
  }
 },
 "nbformat": 4,
 "nbformat_minor": 4
}
